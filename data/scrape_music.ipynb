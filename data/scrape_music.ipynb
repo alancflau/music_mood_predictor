{
 "cells": [
  {
   "cell_type": "code",
   "execution_count": 1,
   "metadata": {},
   "outputs": [],
   "source": [
    "import spotipy\n",
    "from spotipy.oauth2 import SpotifyClientCredentials\n",
    "\n",
    "import json\n",
    "\n",
    "import requests\n",
    "import time\n",
    "import pandas as pd\n",
    "\n",
    "import scraper\n",
    "import config"
   ]
  },
  {
   "cell_type": "code",
   "execution_count": 2,
   "metadata": {},
   "outputs": [],
   "source": [
    "client_id = config.client_id\n",
    "client_secret = config.client_secret\n",
    "client_credentials_manager = SpotifyClientCredentials(client_id, client_secret)\n",
    "sp = spotipy.Spotify(client_credentials_manager = client_credentials_manager)"
   ]
  },
  {
   "cell_type": "markdown",
   "metadata": {},
   "source": [
    "df_0"
   ]
  },
  {
   "cell_type": "code",
   "execution_count": 3,
   "metadata": {},
   "outputs": [],
   "source": [
    "ids_0 = scraper.get_songs(userID = 'spotify', playlistID = '37i9dQZF1CAt8n5DC9YTJn', sp = sp)"
   ]
  },
  {
   "cell_type": "code",
   "execution_count": 4,
   "metadata": {},
   "outputs": [],
   "source": [
    "df_0 = scraper.get(ids_0, sp)"
   ]
  },
  {
   "cell_type": "markdown",
   "metadata": {},
   "source": [
    "df1"
   ]
  },
  {
   "cell_type": "code",
   "execution_count": 6,
   "metadata": {},
   "outputs": [],
   "source": [
    "ids_1 = scraper.get_songs(userID = 'spotify', playlistID = '37i9dQZF1E35RZkev66lbJ', sp = sp)"
   ]
  },
  {
   "cell_type": "code",
   "execution_count": 7,
   "metadata": {},
   "outputs": [],
   "source": [
    "df_1 = scraper.get(ids_1, sp)"
   ]
  },
  {
   "cell_type": "markdown",
   "metadata": {},
   "source": [
    "df2"
   ]
  },
  {
   "cell_type": "code",
   "execution_count": 8,
   "metadata": {},
   "outputs": [],
   "source": [
    "ids_2 = scraper.get_songs(userID = 'spotify', playlistID = '37i9dQZF1E35OxxPGRv5ky', sp = sp)"
   ]
  },
  {
   "cell_type": "code",
   "execution_count": 9,
   "metadata": {},
   "outputs": [],
   "source": [
    "df_2 = scraper.get(ids_2, sp)"
   ]
  },
  {
   "cell_type": "markdown",
   "metadata": {},
   "source": [
    "df3"
   ]
  },
  {
   "cell_type": "code",
   "execution_count": 10,
   "metadata": {},
   "outputs": [],
   "source": [
    "ids_3 = scraper.get_songs(userID = 'spotify', playlistID = '37i9dQZF1E39BiSB8OLPv1', sp = sp)"
   ]
  },
  {
   "cell_type": "code",
   "execution_count": 11,
   "metadata": {},
   "outputs": [],
   "source": [
    "df_3 = scraper.get(ids_3, sp)"
   ]
  },
  {
   "cell_type": "markdown",
   "metadata": {},
   "source": [
    "df4"
   ]
  },
  {
   "cell_type": "code",
   "execution_count": 12,
   "metadata": {},
   "outputs": [],
   "source": [
    "ids_4 = scraper.get_songs(userID = 'spotify', playlistID = '37i9dQZF1E36qNEb8zsfms', sp = sp)"
   ]
  },
  {
   "cell_type": "code",
   "execution_count": 13,
   "metadata": {},
   "outputs": [],
   "source": [
    "df_4 = scraper.get(ids_4, sp)"
   ]
  },
  {
   "cell_type": "markdown",
   "metadata": {},
   "source": [
    "df5"
   ]
  },
  {
   "cell_type": "code",
   "execution_count": 14,
   "metadata": {},
   "outputs": [],
   "source": [
    "ids_5 = scraper.get_songs(userID = 'spotify', playlistID = '37i9dQZF1E3a7ClSLSLuF9', sp = sp)"
   ]
  },
  {
   "cell_type": "code",
   "execution_count": 15,
   "metadata": {},
   "outputs": [],
   "source": [
    "df_5 = scraper.get(ids_5, sp)"
   ]
  },
  {
   "cell_type": "markdown",
   "metadata": {},
   "source": [
    "df6"
   ]
  },
  {
   "cell_type": "code",
   "execution_count": 17,
   "metadata": {},
   "outputs": [],
   "source": [
    "ids_6 = scraper.get_songs(userID = 'spotify', playlistID = '37i9dQZF1E39TC1wK5JCoD', sp = sp)"
   ]
  },
  {
   "cell_type": "code",
   "execution_count": 18,
   "metadata": {},
   "outputs": [],
   "source": [
    "df_6 = scraper.get(ids_6, sp)"
   ]
  },
  {
   "cell_type": "markdown",
   "metadata": {},
   "source": [
    "Final result"
   ]
  },
  {
   "cell_type": "code",
   "execution_count": 21,
   "metadata": {},
   "outputs": [],
   "source": [
    "dfs = [df_0, df_1, df_2, df_3, df_4, df_5, df_6]"
   ]
  },
  {
   "cell_type": "code",
   "execution_count": 22,
   "metadata": {},
   "outputs": [
    {
     "data": {
      "text/html": [
       "<div>\n",
       "<style scoped>\n",
       "    .dataframe tbody tr th:only-of-type {\n",
       "        vertical-align: middle;\n",
       "    }\n",
       "\n",
       "    .dataframe tbody tr th {\n",
       "        vertical-align: top;\n",
       "    }\n",
       "\n",
       "    .dataframe thead th {\n",
       "        text-align: right;\n",
       "    }\n",
       "</style>\n",
       "<table border=\"1\" class=\"dataframe\">\n",
       "  <thead>\n",
       "    <tr style=\"text-align: right;\">\n",
       "      <th></th>\n",
       "      <th>name</th>\n",
       "      <th>album</th>\n",
       "      <th>artist</th>\n",
       "      <th>release_date</th>\n",
       "      <th>length</th>\n",
       "      <th>popularity</th>\n",
       "      <th>danceability</th>\n",
       "      <th>acousticness</th>\n",
       "      <th>danceability</th>\n",
       "      <th>energy</th>\n",
       "      <th>instrumentalness</th>\n",
       "      <th>liveness</th>\n",
       "      <th>loudness</th>\n",
       "      <th>speechiness</th>\n",
       "      <th>tempo</th>\n",
       "      <th>time_signature</th>\n",
       "    </tr>\n",
       "  </thead>\n",
       "  <tbody>\n",
       "    <tr>\n",
       "      <td>0</td>\n",
       "      <td>Don't You</td>\n",
       "      <td>失戀派對</td>\n",
       "      <td>G5SH</td>\n",
       "      <td>2017-12-26</td>\n",
       "      <td>157075</td>\n",
       "      <td>22</td>\n",
       "      <td>0.693</td>\n",
       "      <td>0.00215</td>\n",
       "      <td>0.693</td>\n",
       "      <td>0.703</td>\n",
       "      <td>0.000117</td>\n",
       "      <td>0.2090</td>\n",
       "      <td>-5.516</td>\n",
       "      <td>0.0388</td>\n",
       "      <td>130.069</td>\n",
       "      <td>4</td>\n",
       "    </tr>\n",
       "    <tr>\n",
       "      <td>1</td>\n",
       "      <td>If You Wanna</td>\n",
       "      <td>If You Wanna</td>\n",
       "      <td>Perfume</td>\n",
       "      <td>2017-08-30</td>\n",
       "      <td>163583</td>\n",
       "      <td>0</td>\n",
       "      <td>0.567</td>\n",
       "      <td>0.29300</td>\n",
       "      <td>0.567</td>\n",
       "      <td>0.806</td>\n",
       "      <td>0.195000</td>\n",
       "      <td>0.2420</td>\n",
       "      <td>-2.040</td>\n",
       "      <td>0.0311</td>\n",
       "      <td>149.976</td>\n",
       "      <td>4</td>\n",
       "    </tr>\n",
       "    <tr>\n",
       "      <td>2</td>\n",
       "      <td>In My Feelings</td>\n",
       "      <td>Scorpion</td>\n",
       "      <td>Drake</td>\n",
       "      <td>2018-06-29</td>\n",
       "      <td>217933</td>\n",
       "      <td>3</td>\n",
       "      <td>0.735</td>\n",
       "      <td>0.00623</td>\n",
       "      <td>0.735</td>\n",
       "      <td>0.482</td>\n",
       "      <td>0.014400</td>\n",
       "      <td>0.4480</td>\n",
       "      <td>-9.445</td>\n",
       "      <td>0.1390</td>\n",
       "      <td>181.995</td>\n",
       "      <td>4</td>\n",
       "    </tr>\n",
       "    <tr>\n",
       "      <td>3</td>\n",
       "      <td>City Lights (feat. EVO+ &amp; Jinmenusagi)</td>\n",
       "      <td>Lights</td>\n",
       "      <td>HyperJuice</td>\n",
       "      <td>2015-09-02</td>\n",
       "      <td>248141</td>\n",
       "      <td>0</td>\n",
       "      <td>0.738</td>\n",
       "      <td>0.05730</td>\n",
       "      <td>0.738</td>\n",
       "      <td>0.820</td>\n",
       "      <td>0.000000</td>\n",
       "      <td>0.1610</td>\n",
       "      <td>-3.181</td>\n",
       "      <td>0.0493</td>\n",
       "      <td>131.025</td>\n",
       "      <td>4</td>\n",
       "    </tr>\n",
       "    <tr>\n",
       "      <td>4</td>\n",
       "      <td>Save ME</td>\n",
       "      <td>화양연화 The Most Beautiful Moment In Life: Young ...</td>\n",
       "      <td>BTS</td>\n",
       "      <td>2016-05-02</td>\n",
       "      <td>196559</td>\n",
       "      <td>0</td>\n",
       "      <td>0.606</td>\n",
       "      <td>0.02550</td>\n",
       "      <td>0.606</td>\n",
       "      <td>0.778</td>\n",
       "      <td>0.000000</td>\n",
       "      <td>0.0819</td>\n",
       "      <td>-4.393</td>\n",
       "      <td>0.0564</td>\n",
       "      <td>139.865</td>\n",
       "      <td>4</td>\n",
       "    </tr>\n",
       "    <tr>\n",
       "      <td>...</td>\n",
       "      <td>...</td>\n",
       "      <td>...</td>\n",
       "      <td>...</td>\n",
       "      <td>...</td>\n",
       "      <td>...</td>\n",
       "      <td>...</td>\n",
       "      <td>...</td>\n",
       "      <td>...</td>\n",
       "      <td>...</td>\n",
       "      <td>...</td>\n",
       "      <td>...</td>\n",
       "      <td>...</td>\n",
       "      <td>...</td>\n",
       "      <td>...</td>\n",
       "      <td>...</td>\n",
       "      <td>...</td>\n",
       "    </tr>\n",
       "    <tr>\n",
       "      <td>45</td>\n",
       "      <td>陌生人</td>\n",
       "      <td>陌生人</td>\n",
       "      <td>Tanya Chua</td>\n",
       "      <td>2003-06-05</td>\n",
       "      <td>234120</td>\n",
       "      <td>50</td>\n",
       "      <td>0.589</td>\n",
       "      <td>0.86700</td>\n",
       "      <td>0.589</td>\n",
       "      <td>0.320</td>\n",
       "      <td>0.000335</td>\n",
       "      <td>0.1040</td>\n",
       "      <td>-10.057</td>\n",
       "      <td>0.0281</td>\n",
       "      <td>76.503</td>\n",
       "      <td>4</td>\n",
       "    </tr>\n",
       "    <tr>\n",
       "      <td>46</td>\n",
       "      <td>只願和你相愛</td>\n",
       "      <td>20 新歌duet精選</td>\n",
       "      <td>Power Station</td>\n",
       "      <td>2016-12-09</td>\n",
       "      <td>272874</td>\n",
       "      <td>33</td>\n",
       "      <td>0.589</td>\n",
       "      <td>0.54600</td>\n",
       "      <td>0.589</td>\n",
       "      <td>0.565</td>\n",
       "      <td>0.000000</td>\n",
       "      <td>0.0900</td>\n",
       "      <td>-7.699</td>\n",
       "      <td>0.0313</td>\n",
       "      <td>117.037</td>\n",
       "      <td>4</td>\n",
       "    </tr>\n",
       "    <tr>\n",
       "      <td>47</td>\n",
       "      <td>Rules</td>\n",
       "      <td>Rules</td>\n",
       "      <td>Tabitha Nauser</td>\n",
       "      <td>2018-05-25</td>\n",
       "      <td>227653</td>\n",
       "      <td>20</td>\n",
       "      <td>0.668</td>\n",
       "      <td>0.22500</td>\n",
       "      <td>0.668</td>\n",
       "      <td>0.824</td>\n",
       "      <td>0.000000</td>\n",
       "      <td>0.1140</td>\n",
       "      <td>-6.990</td>\n",
       "      <td>0.0692</td>\n",
       "      <td>134.034</td>\n",
       "      <td>4</td>\n",
       "    </tr>\n",
       "    <tr>\n",
       "      <td>48</td>\n",
       "      <td>除了愛你還能愛誰</td>\n",
       "      <td>無情的情書</td>\n",
       "      <td>Power Station</td>\n",
       "      <td>1997-10-07</td>\n",
       "      <td>277973</td>\n",
       "      <td>33</td>\n",
       "      <td>0.520</td>\n",
       "      <td>0.30500</td>\n",
       "      <td>0.520</td>\n",
       "      <td>0.521</td>\n",
       "      <td>0.000000</td>\n",
       "      <td>0.1280</td>\n",
       "      <td>-8.145</td>\n",
       "      <td>0.0250</td>\n",
       "      <td>96.915</td>\n",
       "      <td>4</td>\n",
       "    </tr>\n",
       "    <tr>\n",
       "      <td>49</td>\n",
       "      <td>Mirage</td>\n",
       "      <td>Mirage</td>\n",
       "      <td>Sezairi</td>\n",
       "      <td>2018-10-19</td>\n",
       "      <td>205480</td>\n",
       "      <td>38</td>\n",
       "      <td>0.740</td>\n",
       "      <td>0.42000</td>\n",
       "      <td>0.740</td>\n",
       "      <td>0.654</td>\n",
       "      <td>0.000000</td>\n",
       "      <td>0.0988</td>\n",
       "      <td>-6.749</td>\n",
       "      <td>0.1820</td>\n",
       "      <td>89.974</td>\n",
       "      <td>4</td>\n",
       "    </tr>\n",
       "  </tbody>\n",
       "</table>\n",
       "<p>350 rows × 16 columns</p>\n",
       "</div>"
      ],
      "text/plain": [
       "                                      name  \\\n",
       "0                                Don't You   \n",
       "1                             If You Wanna   \n",
       "2                           In My Feelings   \n",
       "3   City Lights (feat. EVO+ & Jinmenusagi)   \n",
       "4                                  Save ME   \n",
       "..                                     ...   \n",
       "45                                     陌生人   \n",
       "46                                  只願和你相愛   \n",
       "47                                   Rules   \n",
       "48                                除了愛你還能愛誰   \n",
       "49                                  Mirage   \n",
       "\n",
       "                                                album          artist  \\\n",
       "0                                                失戀派對            G5SH   \n",
       "1                                        If You Wanna         Perfume   \n",
       "2                                            Scorpion           Drake   \n",
       "3                                              Lights      HyperJuice   \n",
       "4   화양연화 The Most Beautiful Moment In Life: Young ...             BTS   \n",
       "..                                                ...             ...   \n",
       "45                                                陌生人      Tanya Chua   \n",
       "46                                        20 新歌duet精選   Power Station   \n",
       "47                                              Rules  Tabitha Nauser   \n",
       "48                                              無情的情書   Power Station   \n",
       "49                                             Mirage         Sezairi   \n",
       "\n",
       "   release_date  length  popularity  danceability  acousticness  danceability  \\\n",
       "0    2017-12-26  157075          22         0.693       0.00215         0.693   \n",
       "1    2017-08-30  163583           0         0.567       0.29300         0.567   \n",
       "2    2018-06-29  217933           3         0.735       0.00623         0.735   \n",
       "3    2015-09-02  248141           0         0.738       0.05730         0.738   \n",
       "4    2016-05-02  196559           0         0.606       0.02550         0.606   \n",
       "..          ...     ...         ...           ...           ...           ...   \n",
       "45   2003-06-05  234120          50         0.589       0.86700         0.589   \n",
       "46   2016-12-09  272874          33         0.589       0.54600         0.589   \n",
       "47   2018-05-25  227653          20         0.668       0.22500         0.668   \n",
       "48   1997-10-07  277973          33         0.520       0.30500         0.520   \n",
       "49   2018-10-19  205480          38         0.740       0.42000         0.740   \n",
       "\n",
       "    energy  instrumentalness  liveness  loudness  speechiness    tempo  \\\n",
       "0    0.703          0.000117    0.2090    -5.516       0.0388  130.069   \n",
       "1    0.806          0.195000    0.2420    -2.040       0.0311  149.976   \n",
       "2    0.482          0.014400    0.4480    -9.445       0.1390  181.995   \n",
       "3    0.820          0.000000    0.1610    -3.181       0.0493  131.025   \n",
       "4    0.778          0.000000    0.0819    -4.393       0.0564  139.865   \n",
       "..     ...               ...       ...       ...          ...      ...   \n",
       "45   0.320          0.000335    0.1040   -10.057       0.0281   76.503   \n",
       "46   0.565          0.000000    0.0900    -7.699       0.0313  117.037   \n",
       "47   0.824          0.000000    0.1140    -6.990       0.0692  134.034   \n",
       "48   0.521          0.000000    0.1280    -8.145       0.0250   96.915   \n",
       "49   0.654          0.000000    0.0988    -6.749       0.1820   89.974   \n",
       "\n",
       "    time_signature  \n",
       "0                4  \n",
       "1                4  \n",
       "2                4  \n",
       "3                4  \n",
       "4                4  \n",
       "..             ...  \n",
       "45               4  \n",
       "46               4  \n",
       "47               4  \n",
       "48               4  \n",
       "49               4  \n",
       "\n",
       "[350 rows x 16 columns]"
      ]
     },
     "execution_count": 22,
     "metadata": {},
     "output_type": "execute_result"
    }
   ],
   "source": [
    "pd.concat(dfs)"
   ]
  },
  {
   "cell_type": "code",
   "execution_count": null,
   "metadata": {},
   "outputs": [],
   "source": []
  }
 ],
 "metadata": {
  "kernelspec": {
   "display_name": "Python 3",
   "language": "python",
   "name": "python3"
  },
  "language_info": {
   "codemirror_mode": {
    "name": "ipython",
    "version": 3
   },
   "file_extension": ".py",
   "mimetype": "text/x-python",
   "name": "python",
   "nbconvert_exporter": "python",
   "pygments_lexer": "ipython3",
   "version": "3.7.4"
  }
 },
 "nbformat": 4,
 "nbformat_minor": 2
}
