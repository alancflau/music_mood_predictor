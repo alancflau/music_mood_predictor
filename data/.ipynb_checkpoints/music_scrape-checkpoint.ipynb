{
 "cells": [
  {
   "cell_type": "code",
   "execution_count": null,
   "metadata": {},
   "outputs": [],
   "source": [
    "import spotipy\n",
    "from spotipy.oauth2 import SpotifyClientCredentials\n",
    "import spotipy.util as util\n",
    "\n",
    "\n",
    "import json\n",
    "\n",
    "import requests\n",
    "import time\n",
    "import pandas as pd\n",
    "\n",
    "import scraper\n",
    "import config"
   ]
  },
  {
   "cell_type": "code",
   "execution_count": 2,
   "metadata": {},
   "outputs": [],
   "source": [
    "client_id = config.client_id\n",
    "client_secret = config.client_secret\n",
    "\n",
    "client_credentials_manager = SpotifyClientCredentials(client_id, client_secret)\n",
    "sp = spotipy.Spotify(client_credentials_manager = client_credentials_manager)"
   ]
  },
  {
   "cell_type": "code",
   "execution_count": 3,
   "metadata": {},
   "outputs": [],
   "source": [
    "list_of_playlistIDs = ['37i9dQZF1CAt8n5DC9YTJn', '37i9dQZF1Eps8FC5DotJ89', '37i9dQZF1EpDMpJ4raXjIb', \n",
    "                       '37i9dQZF1EtdPlv60otoPX', '37i9dQZF1EjwibXavnYGoH', '37i9dQZF1E9ONqr7iC5nzo',\n",
    "                       '37i9dQZF1CyKDkBebB4i79']"
   ]
  },
  {
   "cell_type": "code",
   "execution_count": 4,
   "metadata": {},
   "outputs": [],
   "source": [
    "dfs = []\n",
    "\n",
    "for playlist in list_of_playlistIDs:\n",
    "    temp_df = scraper.datascrape('spotify', playlist, sp)\n",
    "    dfs.append(temp_df)"
   ]
  },
  {
   "cell_type": "code",
   "execution_count": 6,
   "metadata": {
    "scrolled": true
   },
   "outputs": [],
   "source": [
    "final_df = pd.concat(dfs)\n",
    "final_df.to_csv('my_spotify_tracks.csv', index = False)"
   ]
  }
 ],
 "metadata": {
  "kernelspec": {
   "display_name": "Python 3",
   "language": "python",
   "name": "python3"
  },
  "language_info": {
   "codemirror_mode": {
    "name": "ipython",
    "version": 3
   },
   "file_extension": ".py",
   "mimetype": "text/x-python",
   "name": "python",
   "nbconvert_exporter": "python",
   "pygments_lexer": "ipython3",
   "version": "3.7.4"
  }
 },
 "nbformat": 4,
 "nbformat_minor": 2
}
